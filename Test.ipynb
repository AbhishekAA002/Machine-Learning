{
  "nbformat": 4,
  "nbformat_minor": 0,
  "metadata": {
    "colab": {
      "provenance": [],
      "authorship_tag": "ABX9TyOhnPhFnLF32xkSujx15m7Z",
      "include_colab_link": true
    },
    "kernelspec": {
      "name": "python3",
      "display_name": "Python 3"
    },
    "language_info": {
      "name": "python"
    }
  },
  "cells": [
    {
      "cell_type": "markdown",
      "metadata": {
        "id": "view-in-github",
        "colab_type": "text"
      },
      "source": [
        "<a href=\"https://colab.research.google.com/github/AbhishekAA002/Machine-Learning/blob/main/Test.ipynb\" target=\"_parent\"><img src=\"https://colab.research.google.com/assets/colab-badge.svg\" alt=\"Open In Colab\"/></a>"
      ]
    },
    {
      "cell_type": "code",
      "execution_count": 4,
      "metadata": {
        "colab": {
          "base_uri": "https://localhost:8080/"
        },
        "id": "dIarsm5gnOKB",
        "outputId": "e97d7b7a-9e49-4132-97d7-7bc151fb0e32"
      },
      "outputs": [
        {
          "output_type": "stream",
          "name": "stdout",
          "text": [
            "Hello machine learning\n",
            "Hello machine learning\n",
            "Hello machine learning\n",
            "Hello machine learning\n",
            "Hello machine learning\n",
            "Hello machine learning\n",
            "Hello machine learning\n",
            "Hello machine learning\n",
            "Hello machine learning\n",
            "Hello machine learning\n",
            "Hello machine learning\n",
            "Hello machine learning\n",
            "Hello machine learning\n",
            "Hello machine learning\n",
            "Hello machine learning\n",
            "Hello machine learning\n",
            "Hello machine learning\n",
            "Hello machine learning\n",
            "Hello machine learning\n",
            "Hello machine learning\n",
            "Hello machine learning\n",
            "Hello machine learning\n",
            "Hello machine learning\n",
            "Hello machine learning\n",
            "Hello machine learning\n",
            "Hello machine learning\n",
            "Hello machine learning\n",
            "Hello machine learning\n",
            "Hello machine learning\n",
            "Hello machine learning\n",
            "Hello machine learning\n",
            "Hello machine learning\n",
            "Hello machine learning\n",
            "Hello machine learning\n",
            "Hello machine learning\n",
            "Hello machine learning\n",
            "Hello machine learning\n",
            "Hello machine learning\n",
            "Hello machine learning\n",
            "Hello machine learning\n",
            "Hello machine learning\n",
            "Hello machine learning\n",
            "Hello machine learning\n",
            "Hello machine learning\n",
            "Hello machine learning\n",
            "Hello machine learning\n",
            "Hello machine learning\n",
            "Hello machine learning\n",
            "Hello machine learning\n",
            "Hello machine learning\n",
            "Hello machine learning\n",
            "Hello machine learning\n",
            "Hello machine learning\n",
            "Hello machine learning\n",
            "Hello machine learning\n",
            "Hello machine learning\n",
            "Hello machine learning\n",
            "Hello machine learning\n",
            "Hello machine learning\n",
            "Hello machine learning\n",
            "Hello machine learning\n",
            "Hello machine learning\n",
            "Hello machine learning\n",
            "Hello machine learning\n",
            "Hello machine learning\n",
            "Hello machine learning\n",
            "Hello machine learning\n",
            "Hello machine learning\n",
            "Hello machine learning\n",
            "Hello machine learning\n",
            "Hello machine learning\n",
            "Hello machine learning\n",
            "Hello machine learning\n",
            "Hello machine learning\n",
            "Hello machine learning\n",
            "Hello machine learning\n",
            "Hello machine learning\n",
            "Hello machine learning\n",
            "Hello machine learning\n",
            "Hello machine learning\n",
            "Hello machine learning\n",
            "Hello machine learning\n",
            "Hello machine learning\n",
            "Hello machine learning\n",
            "Hello machine learning\n",
            "Hello machine learning\n",
            "Hello machine learning\n",
            "Hello machine learning\n",
            "Hello machine learning\n",
            "Hello machine learning\n",
            "Hello machine learning\n",
            "Hello machine learning\n",
            "Hello machine learning\n",
            "Hello machine learning\n",
            "Hello machine learning\n",
            "Hello machine learning\n",
            "Hello machine learning\n",
            "Hello machine learning\n",
            "Hello machine learning\n",
            "Hello machine learning\n"
          ]
        }
      ],
      "source": [
        "for i in range(100):\n",
        "  print('Hello machine learning')"
      ]
    }
  ]
}