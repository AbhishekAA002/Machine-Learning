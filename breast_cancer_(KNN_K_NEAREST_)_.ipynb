{
  "nbformat": 4,
  "nbformat_minor": 0,
  "metadata": {
    "colab": {
      "provenance": [],
      "authorship_tag": "ABX9TyNv4VClF2TuOEhkR59EJOaD",
      "include_colab_link": true
    },
    "kernelspec": {
      "name": "python3",
      "display_name": "Python 3"
    },
    "language_info": {
      "name": "python"
    }
  },
  "cells": [
    {
      "cell_type": "markdown",
      "metadata": {
        "id": "view-in-github",
        "colab_type": "text"
      },
      "source": [
        "<a href=\"https://colab.research.google.com/github/AbhishekAA002/Machine-Learning/blob/main/breast_cancer_(KNN_K_NEAREST_)_.ipynb\" target=\"_parent\"><img src=\"https://colab.research.google.com/assets/colab-badge.svg\" alt=\"Open In Colab\"/></a>"
      ]
    },
    {
      "cell_type": "code",
      "execution_count": 40,
      "metadata": {
        "id": "8l2zCwcZ2Ni7"
      },
      "outputs": [],
      "source": [
        "import numpy as np \n",
        "import pandas as pd "
      ]
    },
    {
      "cell_type": "code",
      "source": [
        "df=pd.read_csv(\"/content/breast-cancer-wisconsin.data.txt\")"
      ],
      "metadata": {
        "id": "wwchqEPI2u3H"
      },
      "execution_count": 41,
      "outputs": []
    },
    {
      "cell_type": "code",
      "source": [
        "df.head()"
      ],
      "metadata": {
        "colab": {
          "base_uri": "https://localhost:8080/",
          "height": 206
        },
        "id": "3uGjTGgW211o",
        "outputId": "52e418ef-119d-4652-cd83-058cfc181ef2"
      },
      "execution_count": 42,
      "outputs": [
        {
          "output_type": "execute_result",
          "data": {
            "text/plain": [
              "   1000025  5   1  1.1  1.2  2 1.3  3  1.4  1.5  2.1\n",
              "0  1002945  5   4    4    5  7  10  3    2    1    2\n",
              "1  1015425  3   1    1    1  2   2  3    1    1    2\n",
              "2  1016277  6   8    8    1  3   4  3    7    1    2\n",
              "3  1017023  4   1    1    3  2   1  3    1    1    2\n",
              "4  1017122  8  10   10    8  7  10  9    7    1    4"
            ],
            "text/html": [
              "\n",
              "  <div id=\"df-303e9954-f5fc-459f-ad93-8e658d7452ff\">\n",
              "    <div class=\"colab-df-container\">\n",
              "      <div>\n",
              "<style scoped>\n",
              "    .dataframe tbody tr th:only-of-type {\n",
              "        vertical-align: middle;\n",
              "    }\n",
              "\n",
              "    .dataframe tbody tr th {\n",
              "        vertical-align: top;\n",
              "    }\n",
              "\n",
              "    .dataframe thead th {\n",
              "        text-align: right;\n",
              "    }\n",
              "</style>\n",
              "<table border=\"1\" class=\"dataframe\">\n",
              "  <thead>\n",
              "    <tr style=\"text-align: right;\">\n",
              "      <th></th>\n",
              "      <th>1000025</th>\n",
              "      <th>5</th>\n",
              "      <th>1</th>\n",
              "      <th>1.1</th>\n",
              "      <th>1.2</th>\n",
              "      <th>2</th>\n",
              "      <th>1.3</th>\n",
              "      <th>3</th>\n",
              "      <th>1.4</th>\n",
              "      <th>1.5</th>\n",
              "      <th>2.1</th>\n",
              "    </tr>\n",
              "  </thead>\n",
              "  <tbody>\n",
              "    <tr>\n",
              "      <th>0</th>\n",
              "      <td>1002945</td>\n",
              "      <td>5</td>\n",
              "      <td>4</td>\n",
              "      <td>4</td>\n",
              "      <td>5</td>\n",
              "      <td>7</td>\n",
              "      <td>10</td>\n",
              "      <td>3</td>\n",
              "      <td>2</td>\n",
              "      <td>1</td>\n",
              "      <td>2</td>\n",
              "    </tr>\n",
              "    <tr>\n",
              "      <th>1</th>\n",
              "      <td>1015425</td>\n",
              "      <td>3</td>\n",
              "      <td>1</td>\n",
              "      <td>1</td>\n",
              "      <td>1</td>\n",
              "      <td>2</td>\n",
              "      <td>2</td>\n",
              "      <td>3</td>\n",
              "      <td>1</td>\n",
              "      <td>1</td>\n",
              "      <td>2</td>\n",
              "    </tr>\n",
              "    <tr>\n",
              "      <th>2</th>\n",
              "      <td>1016277</td>\n",
              "      <td>6</td>\n",
              "      <td>8</td>\n",
              "      <td>8</td>\n",
              "      <td>1</td>\n",
              "      <td>3</td>\n",
              "      <td>4</td>\n",
              "      <td>3</td>\n",
              "      <td>7</td>\n",
              "      <td>1</td>\n",
              "      <td>2</td>\n",
              "    </tr>\n",
              "    <tr>\n",
              "      <th>3</th>\n",
              "      <td>1017023</td>\n",
              "      <td>4</td>\n",
              "      <td>1</td>\n",
              "      <td>1</td>\n",
              "      <td>3</td>\n",
              "      <td>2</td>\n",
              "      <td>1</td>\n",
              "      <td>3</td>\n",
              "      <td>1</td>\n",
              "      <td>1</td>\n",
              "      <td>2</td>\n",
              "    </tr>\n",
              "    <tr>\n",
              "      <th>4</th>\n",
              "      <td>1017122</td>\n",
              "      <td>8</td>\n",
              "      <td>10</td>\n",
              "      <td>10</td>\n",
              "      <td>8</td>\n",
              "      <td>7</td>\n",
              "      <td>10</td>\n",
              "      <td>9</td>\n",
              "      <td>7</td>\n",
              "      <td>1</td>\n",
              "      <td>4</td>\n",
              "    </tr>\n",
              "  </tbody>\n",
              "</table>\n",
              "</div>\n",
              "      <button class=\"colab-df-convert\" onclick=\"convertToInteractive('df-303e9954-f5fc-459f-ad93-8e658d7452ff')\"\n",
              "              title=\"Convert this dataframe to an interactive table.\"\n",
              "              style=\"display:none;\">\n",
              "        \n",
              "  <svg xmlns=\"http://www.w3.org/2000/svg\" height=\"24px\"viewBox=\"0 0 24 24\"\n",
              "       width=\"24px\">\n",
              "    <path d=\"M0 0h24v24H0V0z\" fill=\"none\"/>\n",
              "    <path d=\"M18.56 5.44l.94 2.06.94-2.06 2.06-.94-2.06-.94-.94-2.06-.94 2.06-2.06.94zm-11 1L8.5 8.5l.94-2.06 2.06-.94-2.06-.94L8.5 2.5l-.94 2.06-2.06.94zm10 10l.94 2.06.94-2.06 2.06-.94-2.06-.94-.94-2.06-.94 2.06-2.06.94z\"/><path d=\"M17.41 7.96l-1.37-1.37c-.4-.4-.92-.59-1.43-.59-.52 0-1.04.2-1.43.59L10.3 9.45l-7.72 7.72c-.78.78-.78 2.05 0 2.83L4 21.41c.39.39.9.59 1.41.59.51 0 1.02-.2 1.41-.59l7.78-7.78 2.81-2.81c.8-.78.8-2.07 0-2.86zM5.41 20L4 18.59l7.72-7.72 1.47 1.35L5.41 20z\"/>\n",
              "  </svg>\n",
              "      </button>\n",
              "      \n",
              "  <style>\n",
              "    .colab-df-container {\n",
              "      display:flex;\n",
              "      flex-wrap:wrap;\n",
              "      gap: 12px;\n",
              "    }\n",
              "\n",
              "    .colab-df-convert {\n",
              "      background-color: #E8F0FE;\n",
              "      border: none;\n",
              "      border-radius: 50%;\n",
              "      cursor: pointer;\n",
              "      display: none;\n",
              "      fill: #1967D2;\n",
              "      height: 32px;\n",
              "      padding: 0 0 0 0;\n",
              "      width: 32px;\n",
              "    }\n",
              "\n",
              "    .colab-df-convert:hover {\n",
              "      background-color: #E2EBFA;\n",
              "      box-shadow: 0px 1px 2px rgba(60, 64, 67, 0.3), 0px 1px 3px 1px rgba(60, 64, 67, 0.15);\n",
              "      fill: #174EA6;\n",
              "    }\n",
              "\n",
              "    [theme=dark] .colab-df-convert {\n",
              "      background-color: #3B4455;\n",
              "      fill: #D2E3FC;\n",
              "    }\n",
              "\n",
              "    [theme=dark] .colab-df-convert:hover {\n",
              "      background-color: #434B5C;\n",
              "      box-shadow: 0px 1px 3px 1px rgba(0, 0, 0, 0.15);\n",
              "      filter: drop-shadow(0px 1px 2px rgba(0, 0, 0, 0.3));\n",
              "      fill: #FFFFFF;\n",
              "    }\n",
              "  </style>\n",
              "\n",
              "      <script>\n",
              "        const buttonEl =\n",
              "          document.querySelector('#df-303e9954-f5fc-459f-ad93-8e658d7452ff button.colab-df-convert');\n",
              "        buttonEl.style.display =\n",
              "          google.colab.kernel.accessAllowed ? 'block' : 'none';\n",
              "\n",
              "        async function convertToInteractive(key) {\n",
              "          const element = document.querySelector('#df-303e9954-f5fc-459f-ad93-8e658d7452ff');\n",
              "          const dataTable =\n",
              "            await google.colab.kernel.invokeFunction('convertToInteractive',\n",
              "                                                     [key], {});\n",
              "          if (!dataTable) return;\n",
              "\n",
              "          const docLinkHtml = 'Like what you see? Visit the ' +\n",
              "            '<a target=\"_blank\" href=https://colab.research.google.com/notebooks/data_table.ipynb>data table notebook</a>'\n",
              "            + ' to learn more about interactive tables.';\n",
              "          element.innerHTML = '';\n",
              "          dataTable['output_type'] = 'display_data';\n",
              "          await google.colab.output.renderOutput(dataTable, element);\n",
              "          const docLink = document.createElement('div');\n",
              "          docLink.innerHTML = docLinkHtml;\n",
              "          element.appendChild(docLink);\n",
              "        }\n",
              "      </script>\n",
              "    </div>\n",
              "  </div>\n",
              "  "
            ]
          },
          "metadata": {},
          "execution_count": 42
        }
      ]
    },
    {
      "cell_type": "code",
      "source": [
        "df.shape\n"
      ],
      "metadata": {
        "colab": {
          "base_uri": "https://localhost:8080/"
        },
        "id": "2uGANfdb244l",
        "outputId": "db063309-a5e5-4bd9-cf11-b513fb648f29"
      },
      "execution_count": 43,
      "outputs": [
        {
          "output_type": "execute_result",
          "data": {
            "text/plain": [
              "(698, 11)"
            ]
          },
          "metadata": {},
          "execution_count": 43
        }
      ]
    },
    {
      "cell_type": "code",
      "source": [
        "col_names = ['Id', 'Clump_thickness', 'Uniformity_Cell_Size', 'Uniformity_Cell_Shape', 'Marginal_Adhesion', \n",
        "             'Single_Epithelial_Cell_Size', 'Bare_Nuclei', 'Bland_Chromatin', 'Normal_Nucleoli', 'Mitoses', 'Class']\n",
        "df.columns = col_names\n",
        "\n",
        "df.columns"
      ],
      "metadata": {
        "colab": {
          "base_uri": "https://localhost:8080/"
        },
        "id": "Q5hFFF-727EE",
        "outputId": "f8c417f7-6069-4b9c-abfc-6637b4abf3f2"
      },
      "execution_count": 44,
      "outputs": [
        {
          "output_type": "execute_result",
          "data": {
            "text/plain": [
              "Index(['Id', 'Clump_thickness', 'Uniformity_Cell_Size',\n",
              "       'Uniformity_Cell_Shape', 'Marginal_Adhesion',\n",
              "       'Single_Epithelial_Cell_Size', 'Bare_Nuclei', 'Bland_Chromatin',\n",
              "       'Normal_Nucleoli', 'Mitoses', 'Class'],\n",
              "      dtype='object')"
            ]
          },
          "metadata": {},
          "execution_count": 44
        }
      ]
    },
    {
      "cell_type": "code",
      "source": [
        "df.head()"
      ],
      "metadata": {
        "colab": {
          "base_uri": "https://localhost:8080/",
          "height": 270
        },
        "id": "h2djPpII29M9",
        "outputId": "168b2875-59f1-4ece-81e5-7af6d6ef4a23"
      },
      "execution_count": 45,
      "outputs": [
        {
          "output_type": "execute_result",
          "data": {
            "text/plain": [
              "        Id  Clump_thickness  Uniformity_Cell_Size  Uniformity_Cell_Shape  \\\n",
              "0  1002945                5                     4                      4   \n",
              "1  1015425                3                     1                      1   \n",
              "2  1016277                6                     8                      8   \n",
              "3  1017023                4                     1                      1   \n",
              "4  1017122                8                    10                     10   \n",
              "\n",
              "   Marginal_Adhesion  Single_Epithelial_Cell_Size Bare_Nuclei  \\\n",
              "0                  5                            7          10   \n",
              "1                  1                            2           2   \n",
              "2                  1                            3           4   \n",
              "3                  3                            2           1   \n",
              "4                  8                            7          10   \n",
              "\n",
              "   Bland_Chromatin  Normal_Nucleoli  Mitoses  Class  \n",
              "0                3                2        1      2  \n",
              "1                3                1        1      2  \n",
              "2                3                7        1      2  \n",
              "3                3                1        1      2  \n",
              "4                9                7        1      4  "
            ],
            "text/html": [
              "\n",
              "  <div id=\"df-2a91596e-fb7e-4b72-8087-d1695a078be7\">\n",
              "    <div class=\"colab-df-container\">\n",
              "      <div>\n",
              "<style scoped>\n",
              "    .dataframe tbody tr th:only-of-type {\n",
              "        vertical-align: middle;\n",
              "    }\n",
              "\n",
              "    .dataframe tbody tr th {\n",
              "        vertical-align: top;\n",
              "    }\n",
              "\n",
              "    .dataframe thead th {\n",
              "        text-align: right;\n",
              "    }\n",
              "</style>\n",
              "<table border=\"1\" class=\"dataframe\">\n",
              "  <thead>\n",
              "    <tr style=\"text-align: right;\">\n",
              "      <th></th>\n",
              "      <th>Id</th>\n",
              "      <th>Clump_thickness</th>\n",
              "      <th>Uniformity_Cell_Size</th>\n",
              "      <th>Uniformity_Cell_Shape</th>\n",
              "      <th>Marginal_Adhesion</th>\n",
              "      <th>Single_Epithelial_Cell_Size</th>\n",
              "      <th>Bare_Nuclei</th>\n",
              "      <th>Bland_Chromatin</th>\n",
              "      <th>Normal_Nucleoli</th>\n",
              "      <th>Mitoses</th>\n",
              "      <th>Class</th>\n",
              "    </tr>\n",
              "  </thead>\n",
              "  <tbody>\n",
              "    <tr>\n",
              "      <th>0</th>\n",
              "      <td>1002945</td>\n",
              "      <td>5</td>\n",
              "      <td>4</td>\n",
              "      <td>4</td>\n",
              "      <td>5</td>\n",
              "      <td>7</td>\n",
              "      <td>10</td>\n",
              "      <td>3</td>\n",
              "      <td>2</td>\n",
              "      <td>1</td>\n",
              "      <td>2</td>\n",
              "    </tr>\n",
              "    <tr>\n",
              "      <th>1</th>\n",
              "      <td>1015425</td>\n",
              "      <td>3</td>\n",
              "      <td>1</td>\n",
              "      <td>1</td>\n",
              "      <td>1</td>\n",
              "      <td>2</td>\n",
              "      <td>2</td>\n",
              "      <td>3</td>\n",
              "      <td>1</td>\n",
              "      <td>1</td>\n",
              "      <td>2</td>\n",
              "    </tr>\n",
              "    <tr>\n",
              "      <th>2</th>\n",
              "      <td>1016277</td>\n",
              "      <td>6</td>\n",
              "      <td>8</td>\n",
              "      <td>8</td>\n",
              "      <td>1</td>\n",
              "      <td>3</td>\n",
              "      <td>4</td>\n",
              "      <td>3</td>\n",
              "      <td>7</td>\n",
              "      <td>1</td>\n",
              "      <td>2</td>\n",
              "    </tr>\n",
              "    <tr>\n",
              "      <th>3</th>\n",
              "      <td>1017023</td>\n",
              "      <td>4</td>\n",
              "      <td>1</td>\n",
              "      <td>1</td>\n",
              "      <td>3</td>\n",
              "      <td>2</td>\n",
              "      <td>1</td>\n",
              "      <td>3</td>\n",
              "      <td>1</td>\n",
              "      <td>1</td>\n",
              "      <td>2</td>\n",
              "    </tr>\n",
              "    <tr>\n",
              "      <th>4</th>\n",
              "      <td>1017122</td>\n",
              "      <td>8</td>\n",
              "      <td>10</td>\n",
              "      <td>10</td>\n",
              "      <td>8</td>\n",
              "      <td>7</td>\n",
              "      <td>10</td>\n",
              "      <td>9</td>\n",
              "      <td>7</td>\n",
              "      <td>1</td>\n",
              "      <td>4</td>\n",
              "    </tr>\n",
              "  </tbody>\n",
              "</table>\n",
              "</div>\n",
              "      <button class=\"colab-df-convert\" onclick=\"convertToInteractive('df-2a91596e-fb7e-4b72-8087-d1695a078be7')\"\n",
              "              title=\"Convert this dataframe to an interactive table.\"\n",
              "              style=\"display:none;\">\n",
              "        \n",
              "  <svg xmlns=\"http://www.w3.org/2000/svg\" height=\"24px\"viewBox=\"0 0 24 24\"\n",
              "       width=\"24px\">\n",
              "    <path d=\"M0 0h24v24H0V0z\" fill=\"none\"/>\n",
              "    <path d=\"M18.56 5.44l.94 2.06.94-2.06 2.06-.94-2.06-.94-.94-2.06-.94 2.06-2.06.94zm-11 1L8.5 8.5l.94-2.06 2.06-.94-2.06-.94L8.5 2.5l-.94 2.06-2.06.94zm10 10l.94 2.06.94-2.06 2.06-.94-2.06-.94-.94-2.06-.94 2.06-2.06.94z\"/><path d=\"M17.41 7.96l-1.37-1.37c-.4-.4-.92-.59-1.43-.59-.52 0-1.04.2-1.43.59L10.3 9.45l-7.72 7.72c-.78.78-.78 2.05 0 2.83L4 21.41c.39.39.9.59 1.41.59.51 0 1.02-.2 1.41-.59l7.78-7.78 2.81-2.81c.8-.78.8-2.07 0-2.86zM5.41 20L4 18.59l7.72-7.72 1.47 1.35L5.41 20z\"/>\n",
              "  </svg>\n",
              "      </button>\n",
              "      \n",
              "  <style>\n",
              "    .colab-df-container {\n",
              "      display:flex;\n",
              "      flex-wrap:wrap;\n",
              "      gap: 12px;\n",
              "    }\n",
              "\n",
              "    .colab-df-convert {\n",
              "      background-color: #E8F0FE;\n",
              "      border: none;\n",
              "      border-radius: 50%;\n",
              "      cursor: pointer;\n",
              "      display: none;\n",
              "      fill: #1967D2;\n",
              "      height: 32px;\n",
              "      padding: 0 0 0 0;\n",
              "      width: 32px;\n",
              "    }\n",
              "\n",
              "    .colab-df-convert:hover {\n",
              "      background-color: #E2EBFA;\n",
              "      box-shadow: 0px 1px 2px rgba(60, 64, 67, 0.3), 0px 1px 3px 1px rgba(60, 64, 67, 0.15);\n",
              "      fill: #174EA6;\n",
              "    }\n",
              "\n",
              "    [theme=dark] .colab-df-convert {\n",
              "      background-color: #3B4455;\n",
              "      fill: #D2E3FC;\n",
              "    }\n",
              "\n",
              "    [theme=dark] .colab-df-convert:hover {\n",
              "      background-color: #434B5C;\n",
              "      box-shadow: 0px 1px 3px 1px rgba(0, 0, 0, 0.15);\n",
              "      filter: drop-shadow(0px 1px 2px rgba(0, 0, 0, 0.3));\n",
              "      fill: #FFFFFF;\n",
              "    }\n",
              "  </style>\n",
              "\n",
              "      <script>\n",
              "        const buttonEl =\n",
              "          document.querySelector('#df-2a91596e-fb7e-4b72-8087-d1695a078be7 button.colab-df-convert');\n",
              "        buttonEl.style.display =\n",
              "          google.colab.kernel.accessAllowed ? 'block' : 'none';\n",
              "\n",
              "        async function convertToInteractive(key) {\n",
              "          const element = document.querySelector('#df-2a91596e-fb7e-4b72-8087-d1695a078be7');\n",
              "          const dataTable =\n",
              "            await google.colab.kernel.invokeFunction('convertToInteractive',\n",
              "                                                     [key], {});\n",
              "          if (!dataTable) return;\n",
              "\n",
              "          const docLinkHtml = 'Like what you see? Visit the ' +\n",
              "            '<a target=\"_blank\" href=https://colab.research.google.com/notebooks/data_table.ipynb>data table notebook</a>'\n",
              "            + ' to learn more about interactive tables.';\n",
              "          element.innerHTML = '';\n",
              "          dataTable['output_type'] = 'display_data';\n",
              "          await google.colab.output.renderOutput(dataTable, element);\n",
              "          const docLink = document.createElement('div');\n",
              "          docLink.innerHTML = docLinkHtml;\n",
              "          element.appendChild(docLink);\n",
              "        }\n",
              "      </script>\n",
              "    </div>\n",
              "  </div>\n",
              "  "
            ]
          },
          "metadata": {},
          "execution_count": 45
        }
      ]
    },
    {
      "cell_type": "code",
      "source": [
        "df.drop('Id', axis=1, inplace=True)"
      ],
      "metadata": {
        "id": "T5M6qEa82_Wn"
      },
      "execution_count": 46,
      "outputs": []
    },
    {
      "cell_type": "code",
      "source": [
        "df.info()"
      ],
      "metadata": {
        "colab": {
          "base_uri": "https://localhost:8080/"
        },
        "id": "f1cCCaQL3BpG",
        "outputId": "f646cea2-5243-4ec3-c91a-37c019740167"
      },
      "execution_count": 47,
      "outputs": [
        {
          "output_type": "stream",
          "name": "stdout",
          "text": [
            "<class 'pandas.core.frame.DataFrame'>\n",
            "RangeIndex: 698 entries, 0 to 697\n",
            "Data columns (total 10 columns):\n",
            " #   Column                       Non-Null Count  Dtype \n",
            "---  ------                       --------------  ----- \n",
            " 0   Clump_thickness              698 non-null    int64 \n",
            " 1   Uniformity_Cell_Size         698 non-null    int64 \n",
            " 2   Uniformity_Cell_Shape        698 non-null    int64 \n",
            " 3   Marginal_Adhesion            698 non-null    int64 \n",
            " 4   Single_Epithelial_Cell_Size  698 non-null    int64 \n",
            " 5   Bare_Nuclei                  698 non-null    object\n",
            " 6   Bland_Chromatin              698 non-null    int64 \n",
            " 7   Normal_Nucleoli              698 non-null    int64 \n",
            " 8   Mitoses                      698 non-null    int64 \n",
            " 9   Class                        698 non-null    int64 \n",
            "dtypes: int64(9), object(1)\n",
            "memory usage: 54.7+ KB\n"
          ]
        }
      ]
    },
    {
      "cell_type": "code",
      "source": [
        "for var in df.columns:\n",
        "    \n",
        "    print(df[var].value_counts())"
      ],
      "metadata": {
        "colab": {
          "base_uri": "https://localhost:8080/"
        },
        "id": "n9WXNJPT3DKy",
        "outputId": "bb4d88a3-b8af-4a96-cf00-7b44244f20da"
      },
      "execution_count": 48,
      "outputs": [
        {
          "output_type": "stream",
          "name": "stdout",
          "text": [
            "1     145\n",
            "5     129\n",
            "3     108\n",
            "4      80\n",
            "10     69\n",
            "2      50\n",
            "8      46\n",
            "6      34\n",
            "7      23\n",
            "9      14\n",
            "Name: Clump_thickness, dtype: int64\n",
            "1     383\n",
            "10     67\n",
            "3      52\n",
            "2      45\n",
            "4      40\n",
            "5      30\n",
            "8      29\n",
            "6      27\n",
            "7      19\n",
            "9       6\n",
            "Name: Uniformity_Cell_Size, dtype: int64\n",
            "1     352\n",
            "2      59\n",
            "10     58\n",
            "3      56\n",
            "4      44\n",
            "5      34\n",
            "6      30\n",
            "7      30\n",
            "8      28\n",
            "9       7\n",
            "Name: Uniformity_Cell_Shape, dtype: int64\n",
            "1     406\n",
            "3      58\n",
            "2      58\n",
            "10     55\n",
            "4      33\n",
            "8      25\n",
            "5      23\n",
            "6      22\n",
            "7      13\n",
            "9       5\n",
            "Name: Marginal_Adhesion, dtype: int64\n",
            "2     385\n",
            "3      72\n",
            "4      48\n",
            "1      47\n",
            "6      41\n",
            "5      39\n",
            "10     31\n",
            "8      21\n",
            "7      12\n",
            "9       2\n",
            "Name: Single_Epithelial_Cell_Size, dtype: int64\n",
            "1     401\n",
            "10    132\n",
            "2      30\n",
            "5      30\n",
            "3      28\n",
            "8      21\n",
            "4      19\n",
            "?      16\n",
            "9       9\n",
            "7       8\n",
            "6       4\n",
            "Name: Bare_Nuclei, dtype: int64\n",
            "2     166\n",
            "3     164\n",
            "1     152\n",
            "7      73\n",
            "4      40\n",
            "5      34\n",
            "8      28\n",
            "10     20\n",
            "9      11\n",
            "6      10\n",
            "Name: Bland_Chromatin, dtype: int64\n",
            "1     442\n",
            "10     61\n",
            "3      44\n",
            "2      36\n",
            "8      24\n",
            "6      22\n",
            "5      19\n",
            "4      18\n",
            "7      16\n",
            "9      16\n",
            "Name: Normal_Nucleoli, dtype: int64\n",
            "1     578\n",
            "2      35\n",
            "3      33\n",
            "10     14\n",
            "4      12\n",
            "7       9\n",
            "8       8\n",
            "5       6\n",
            "6       3\n",
            "Name: Mitoses, dtype: int64\n",
            "2    457\n",
            "4    241\n",
            "Name: Class, dtype: int64\n"
          ]
        }
      ]
    },
    {
      "cell_type": "code",
      "source": [
        "df['Bare_Nuclei'] = pd.to_numeric(df['Bare_Nuclei'], errors='coerce')"
      ],
      "metadata": {
        "id": "VCLaPrql3FD4"
      },
      "execution_count": 49,
      "outputs": []
    },
    {
      "cell_type": "code",
      "source": [
        "df.dtypes"
      ],
      "metadata": {
        "colab": {
          "base_uri": "https://localhost:8080/"
        },
        "id": "F3yE5IVy3Hgz",
        "outputId": "ef2ebd01-687e-437f-e344-c1a530de63ba"
      },
      "execution_count": 50,
      "outputs": [
        {
          "output_type": "execute_result",
          "data": {
            "text/plain": [
              "Clump_thickness                  int64\n",
              "Uniformity_Cell_Size             int64\n",
              "Uniformity_Cell_Shape            int64\n",
              "Marginal_Adhesion                int64\n",
              "Single_Epithelial_Cell_Size      int64\n",
              "Bare_Nuclei                    float64\n",
              "Bland_Chromatin                  int64\n",
              "Normal_Nucleoli                  int64\n",
              "Mitoses                          int64\n",
              "Class                            int64\n",
              "dtype: object"
            ]
          },
          "metadata": {},
          "execution_count": 50
        }
      ]
    },
    {
      "cell_type": "code",
      "source": [
        "df.isnull().sum()"
      ],
      "metadata": {
        "colab": {
          "base_uri": "https://localhost:8080/"
        },
        "id": "XLYYxPfQ3Jwo",
        "outputId": "40bb841b-eab5-4d6c-8a7a-36b1e04b798a"
      },
      "execution_count": 51,
      "outputs": [
        {
          "output_type": "execute_result",
          "data": {
            "text/plain": [
              "Clump_thickness                 0\n",
              "Uniformity_Cell_Size            0\n",
              "Uniformity_Cell_Shape           0\n",
              "Marginal_Adhesion               0\n",
              "Single_Epithelial_Cell_Size     0\n",
              "Bare_Nuclei                    16\n",
              "Bland_Chromatin                 0\n",
              "Normal_Nucleoli                 0\n",
              "Mitoses                         0\n",
              "Class                           0\n",
              "dtype: int64"
            ]
          },
          "metadata": {},
          "execution_count": 51
        }
      ]
    },
    {
      "cell_type": "code",
      "source": [
        "df.isna().sum()"
      ],
      "metadata": {
        "colab": {
          "base_uri": "https://localhost:8080/"
        },
        "id": "l2zSLQ2t3L_a",
        "outputId": "5ce4bb02-a8ca-4a39-ba2f-bbe59c3f1238"
      },
      "execution_count": 52,
      "outputs": [
        {
          "output_type": "execute_result",
          "data": {
            "text/plain": [
              "Clump_thickness                 0\n",
              "Uniformity_Cell_Size            0\n",
              "Uniformity_Cell_Shape           0\n",
              "Marginal_Adhesion               0\n",
              "Single_Epithelial_Cell_Size     0\n",
              "Bare_Nuclei                    16\n",
              "Bland_Chromatin                 0\n",
              "Normal_Nucleoli                 0\n",
              "Mitoses                         0\n",
              "Class                           0\n",
              "dtype: int64"
            ]
          },
          "metadata": {},
          "execution_count": 52
        }
      ]
    },
    {
      "cell_type": "code",
      "source": [
        "df['Bare_Nuclei'].value_counts()"
      ],
      "metadata": {
        "colab": {
          "base_uri": "https://localhost:8080/"
        },
        "id": "mSMvOdiT3Oeo",
        "outputId": "13e86f6e-3b55-4e65-a7fb-9bf370159d59"
      },
      "execution_count": 53,
      "outputs": [
        {
          "output_type": "execute_result",
          "data": {
            "text/plain": [
              "1.0     401\n",
              "10.0    132\n",
              "2.0      30\n",
              "5.0      30\n",
              "3.0      28\n",
              "8.0      21\n",
              "4.0      19\n",
              "9.0       9\n",
              "7.0       8\n",
              "6.0       4\n",
              "Name: Bare_Nuclei, dtype: int64"
            ]
          },
          "metadata": {},
          "execution_count": 53
        }
      ]
    },
    {
      "cell_type": "code",
      "source": [
        "df['Bare_Nuclei'].unique()"
      ],
      "metadata": {
        "colab": {
          "base_uri": "https://localhost:8080/"
        },
        "id": "VjnCdJo_3QZh",
        "outputId": "9626f41c-55de-4aef-8716-1ce9b3bf5235"
      },
      "execution_count": 54,
      "outputs": [
        {
          "output_type": "execute_result",
          "data": {
            "text/plain": [
              "array([10.,  2.,  4.,  1.,  3.,  9.,  7., nan,  5.,  8.,  6.])"
            ]
          },
          "metadata": {},
          "execution_count": 54
        }
      ]
    },
    {
      "cell_type": "code",
      "source": [
        "df['Bare_Nuclei'].isna().sum()"
      ],
      "metadata": {
        "colab": {
          "base_uri": "https://localhost:8080/"
        },
        "id": "9NMkw7Ae3SJ9",
        "outputId": "be401158-c2ba-4daf-e1df-db9df2896441"
      },
      "execution_count": 55,
      "outputs": [
        {
          "output_type": "execute_result",
          "data": {
            "text/plain": [
              "16"
            ]
          },
          "metadata": {},
          "execution_count": 55
        }
      ]
    },
    {
      "cell_type": "code",
      "source": [
        "df['Class'].value_counts()/np.float(len(df))"
      ],
      "metadata": {
        "colab": {
          "base_uri": "https://localhost:8080/"
        },
        "id": "Bbh-g_yk3Tga",
        "outputId": "121225c4-9e25-4e6f-8560-d28a61264a67"
      },
      "execution_count": 56,
      "outputs": [
        {
          "output_type": "stream",
          "name": "stderr",
          "text": [
            "<ipython-input-56-97ba03cb8d30>:1: DeprecationWarning: `np.float` is a deprecated alias for the builtin `float`. To silence this warning, use `float` by itself. Doing this will not modify any behavior and is safe. If you specifically wanted the numpy scalar type, use `np.float64` here.\n",
            "Deprecated in NumPy 1.20; for more details and guidance: https://numpy.org/devdocs/release/1.20.0-notes.html#deprecations\n",
            "  df['Class'].value_counts()/np.float(len(df))\n"
          ]
        },
        {
          "output_type": "execute_result",
          "data": {
            "text/plain": [
              "2    0.654728\n",
              "4    0.345272\n",
              "Name: Class, dtype: float64"
            ]
          },
          "metadata": {},
          "execution_count": 56
        }
      ]
    },
    {
      "cell_type": "code",
      "source": [
        "print(round(df.describe(),2))"
      ],
      "metadata": {
        "colab": {
          "base_uri": "https://localhost:8080/"
        },
        "id": "Zg2lALxP3WCH",
        "outputId": "f5bf4c5a-0e6b-4da3-cfa4-1e578eb8c532"
      },
      "execution_count": 57,
      "outputs": [
        {
          "output_type": "stream",
          "name": "stdout",
          "text": [
            "       Clump_thickness  Uniformity_Cell_Size  Uniformity_Cell_Shape  \\\n",
            "count           698.00                698.00                 698.00   \n",
            "mean              4.42                  3.14                   3.21   \n",
            "std               2.82                  3.05                   2.97   \n",
            "min               1.00                  1.00                   1.00   \n",
            "25%               2.00                  1.00                   1.00   \n",
            "50%               4.00                  1.00                   1.00   \n",
            "75%               6.00                  5.00                   5.00   \n",
            "max              10.00                 10.00                  10.00   \n",
            "\n",
            "       Marginal_Adhesion  Single_Epithelial_Cell_Size  Bare_Nuclei  \\\n",
            "count             698.00                       698.00       682.00   \n",
            "mean                2.81                         3.22         3.55   \n",
            "std                 2.86                         2.22         3.65   \n",
            "min                 1.00                         1.00         1.00   \n",
            "25%                 1.00                         2.00         1.00   \n",
            "50%                 1.00                         2.00         1.00   \n",
            "75%                 4.00                         4.00         6.00   \n",
            "max                10.00                        10.00        10.00   \n",
            "\n",
            "       Bland_Chromatin  Normal_Nucleoli  Mitoses   Class  \n",
            "count           698.00           698.00   698.00  698.00  \n",
            "mean              3.44             2.87     1.59    2.69  \n",
            "std               2.44             3.06     1.72    0.95  \n",
            "min               1.00             1.00     1.00    2.00  \n",
            "25%               2.00             1.00     1.00    2.00  \n",
            "50%               3.00             1.00     1.00    2.00  \n",
            "75%               5.00             4.00     1.00    4.00  \n",
            "max              10.00            10.00    10.00    4.00  \n"
          ]
        }
      ]
    },
    {
      "cell_type": "code",
      "source": [
        "import matplotlib.pyplot as plt\n",
        "\n",
        "plt.rcParams['figure.figsize']=(30,25)\n",
        "\n",
        "df.plot(kind='hist', bins=10, subplots=True, layout=(5,2), sharex=False, sharey=False)"
      ],
      "metadata": {
        "colab": {
          "base_uri": "https://localhost:8080/",
          "height": 715
        },
        "id": "0eIUhm1G3YWU",
        "outputId": "d048046b-4872-474d-8b3f-8b95f0cc8345"
      },
      "execution_count": 58,
      "outputs": [
        {
          "output_type": "execute_result",
          "data": {
            "text/plain": [
              "array([[<matplotlib.axes._subplots.AxesSubplot object at 0x7f9e11e2d0d0>,\n",
              "        <matplotlib.axes._subplots.AxesSubplot object at 0x7f9e11e4ab80>],\n",
              "       [<matplotlib.axes._subplots.AxesSubplot object at 0x7f9e11df5fa0>,\n",
              "        <matplotlib.axes._subplots.AxesSubplot object at 0x7f9e11daf3d0>],\n",
              "       [<matplotlib.axes._subplots.AxesSubplot object at 0x7f9e11ddd7c0>,\n",
              "        <matplotlib.axes._subplots.AxesSubplot object at 0x7f9e11d8aaf0>],\n",
              "       [<matplotlib.axes._subplots.AxesSubplot object at 0x7f9e11d8abe0>,\n",
              "        <matplotlib.axes._subplots.AxesSubplot object at 0x7f9e11d46070>],\n",
              "       [<matplotlib.axes._subplots.AxesSubplot object at 0x7f9e11d1f7c0>,\n",
              "        <matplotlib.axes._subplots.AxesSubplot object at 0x7f9e11ccebb0>]],\n",
              "      dtype=object)"
            ]
          },
          "metadata": {},
          "execution_count": 58
        },
        {
          "output_type": "display_data",
          "data": {
            "text/plain": [
              "<Figure size 2160x1800 with 10 Axes>"
            ],
            "image/png": "[encoded data removed]"
          },
          "metadata": {
            "needs_background": "light"
          }
        }
      ]
    },
    {
      "cell_type": "code",
      "source": [
        "correlation = df.corr()"
      ],
      "metadata": {
        "id": "b0RX0gPN3bVL"
      },
      "execution_count": 59,
      "outputs": []
    },
    {
      "cell_type": "code",
      "source": [
        "correlation"
      ],
      "metadata": {
        "colab": {
          "base_uri": "https://localhost:8080/",
          "height": 427
        },
        "id": "v1JKSh2h3dRM",
        "outputId": "c3bf018a-d8a9-40f1-eeff-4a11c7f65e9d"
      },
      "execution_count": 60,
      "outputs": [
        {
          "output_type": "execute_result",
          "data": {
            "text/plain": [
              "                             Clump_thickness  Uniformity_Cell_Size  \\\n",
              "Clump_thickness                     1.000000              0.645366   \n",
              "Uniformity_Cell_Size                0.645366              1.000000   \n",
              "Uniformity_Cell_Shape               0.655089              0.906814   \n",
              "Marginal_Adhesion                   0.486699              0.705397   \n",
              "Single_Epithelial_Cell_Size         0.522108              0.751674   \n",
              "Bare_Nuclei                         0.593524              0.691487   \n",
              "Bland_Chromatin                     0.558511              0.755824   \n",
              "Normal_Nucleoli                     0.536176              0.722699   \n",
              "Mitoses                             0.350176              0.458548   \n",
              "Class                               0.716509              0.817772   \n",
              "\n",
              "                             Uniformity_Cell_Shape  Marginal_Adhesion  \\\n",
              "Clump_thickness                           0.655089           0.486699   \n",
              "Uniformity_Cell_Size                      0.906814           0.705397   \n",
              "Uniformity_Cell_Shape                     1.000000           0.682871   \n",
              "Marginal_Adhesion                         0.682871           1.000000   \n",
              "Single_Epithelial_Cell_Size               0.719524           0.599402   \n",
              "Bare_Nuclei                               0.713661           0.670434   \n",
              "Bland_Chromatin                           0.736066           0.666759   \n",
              "Normal_Nucleoli                           0.719272           0.603132   \n",
              "Mitoses                                   0.438756           0.417476   \n",
              "Class                                     0.818794           0.696605   \n",
              "\n",
              "                             Single_Epithelial_Cell_Size  Bare_Nuclei  \\\n",
              "Clump_thickness                                 0.522108     0.593524   \n",
              "Uniformity_Cell_Size                            0.751674     0.691487   \n",
              "Uniformity_Cell_Shape                           0.719524     0.713661   \n",
              "Marginal_Adhesion                               0.599402     0.670434   \n",
              "Single_Epithelial_Cell_Size                     1.000000     0.585489   \n",
              "Bare_Nuclei                                     0.585489     1.000000   \n",
              "Bland_Chromatin                                 0.616108     0.680689   \n",
              "Normal_Nucleoli                                 0.628704     0.584022   \n",
              "Mitoses                                         0.478975     0.339005   \n",
              "Class                                           0.682618     0.822563   \n",
              "\n",
              "                             Bland_Chromatin  Normal_Nucleoli   Mitoses  \\\n",
              "Clump_thickness                     0.558511         0.536176  0.350176   \n",
              "Uniformity_Cell_Size                0.755824         0.722699  0.458548   \n",
              "Uniformity_Cell_Shape               0.736066         0.719272  0.438756   \n",
              "Marginal_Adhesion                   0.666759         0.603132  0.417476   \n",
              "Single_Epithelial_Cell_Size         0.616108         0.628704  0.478975   \n",
              "Bare_Nuclei                         0.680689         0.584022  0.339005   \n",
              "Bland_Chromatin                     1.000000         0.665914  0.344118   \n",
              "Normal_Nucleoli                     0.665914         1.000000  0.428185   \n",
              "Mitoses                             0.344118         0.428185  1.000000   \n",
              "Class                               0.756732         0.712067  0.423008   \n",
              "\n",
              "                                Class  \n",
              "Clump_thickness              0.716509  \n",
              "Uniformity_Cell_Size         0.817772  \n",
              "Uniformity_Cell_Shape        0.818794  \n",
              "Marginal_Adhesion            0.696605  \n",
              "Single_Epithelial_Cell_Size  0.682618  \n",
              "Bare_Nuclei                  0.822563  \n",
              "Bland_Chromatin              0.756732  \n",
              "Normal_Nucleoli              0.712067  \n",
              "Mitoses                      0.423008  \n",
              "Class                        1.000000  "
            ],
            "text/html": [
              "\n",
              "  <div id=\"df-69305e32-08ae-4fef-9438-50a8921c6821\">\n",
              "    <div class=\"colab-df-container\">\n",
              "      <div>\n",
              "<style scoped>\n",
              "    .dataframe tbody tr th:only-of-type {\n",
              "        vertical-align: middle;\n",
              "    }\n",
              "\n",
              "    .dataframe tbody tr th {\n",
              "        vertical-align: top;\n",
              "    }\n",
              "\n",
              "    .dataframe thead th {\n",
              "        text-align: right;\n",
              "    }\n",
              "</style>\n",
              "<table border=\"1\" class=\"dataframe\">\n",
              "  <thead>\n",
              "    <tr style=\"text-align: right;\">\n",
              "      <th></th>\n",
              "      <th>Clump_thickness</th>\n",
              "      <th>Uniformity_Cell_Size</th>\n",
              "      <th>Uniformity_Cell_Shape</th>\n",
              "      <th>Marginal_Adhesion</th>\n",
              "      <th>Single_Epithelial_Cell_Size</th>\n",
              "      <th>Bare_Nuclei</th>\n",
              "      <th>Bland_Chromatin</th>\n",
              "      <th>Normal_Nucleoli</th>\n",
              "      <th>Mitoses</th>\n",
              "      <th>Class</th>\n",
              "    </tr>\n",
              "  </thead>\n",
              "  <tbody>\n",
              "    <tr>\n",
              "      <th>Clump_thickness</th>\n",
              "      <td>1.000000</td>\n",
              "      <td>0.645366</td>\n",
              "      <td>0.655089</td>\n",
              "      <td>0.486699</td>\n",
              "      <td>0.522108</td>\n",
              "      <td>0.593524</td>\n",
              "      <td>0.558511</td>\n",
              "      <td>0.536176</td>\n",
              "      <td>0.350176</td>\n",
              "      <td>0.716509</td>\n",
              "    </tr>\n",
              "    <tr>\n",
              "      <th>Uniformity_Cell_Size</th>\n",
              "      <td>0.645366</td>\n",
              "      <td>1.000000</td>\n",
              "      <td>0.906814</td>\n",
              "      <td>0.705397</td>\n",
              "      <td>0.751674</td>\n",
              "      <td>0.691487</td>\n",
              "      <td>0.755824</td>\n",
              "      <td>0.722699</td>\n",
              "      <td>0.458548</td>\n",
              "      <td>0.817772</td>\n",
              "    </tr>\n",
              "    <tr>\n",
              "      <th>Uniformity_Cell_Shape</th>\n",
              "      <td>0.655089</td>\n",
              "      <td>0.906814</td>\n",
              "      <td>1.000000</td>\n",
              "      <td>0.682871</td>\n",
              "      <td>0.719524</td>\n",
              "      <td>0.713661</td>\n",
              "      <td>0.736066</td>\n",
              "      <td>0.719272</td>\n",
              "      <td>0.438756</td>\n",
              "      <td>0.818794</td>\n",
              "    </tr>\n",
              "    <tr>\n",
              "      <th>Marginal_Adhesion</th>\n",
              "      <td>0.486699</td>\n",
              "      <td>0.705397</td>\n",
              "      <td>0.682871</td>\n",
              "      <td>1.000000</td>\n",
              "      <td>0.599402</td>\n",
              "      <td>0.670434</td>\n",
              "      <td>0.666759</td>\n",
              "      <td>0.603132</td>\n",
              "      <td>0.417476</td>\n",
              "      <td>0.696605</td>\n",
              "    </tr>\n",
              "    <tr>\n",
              "      <th>Single_Epithelial_Cell_Size</th>\n",
              "      <td>0.522108</td>\n",
              "      <td>0.751674</td>\n",
              "      <td>0.719524</td>\n",
              "      <td>0.599402</td>\n",
              "      <td>1.000000</td>\n",
              "      <td>0.585489</td>\n",
              "      <td>0.616108</td>\n",
              "      <td>0.628704</td>\n",
              "      <td>0.478975</td>\n",
              "      <td>0.682618</td>\n",
              "    </tr>\n",
              "    <tr>\n",
              "      <th>Bare_Nuclei</th>\n",
              "      <td>0.593524</td>\n",
              "      <td>0.691487</td>\n",
              "      <td>0.713661</td>\n",
              "      <td>0.670434</td>\n",
              "      <td>0.585489</td>\n",
              "      <td>1.000000</td>\n",
              "      <td>0.680689</td>\n",
              "      <td>0.584022</td>\n",
              "      <td>0.339005</td>\n",
              "      <td>0.822563</td>\n",
              "    </tr>\n",
              "    <tr>\n",
              "      <th>Bland_Chromatin</th>\n",
              "      <td>0.558511</td>\n",
              "      <td>0.755824</td>\n",
              "      <td>0.736066</td>\n",
              "      <td>0.666759</td>\n",
              "      <td>0.616108</td>\n",
              "      <td>0.680689</td>\n",
              "      <td>1.000000</td>\n",
              "      <td>0.665914</td>\n",
              "      <td>0.344118</td>\n",
              "      <td>0.756732</td>\n",
              "    </tr>\n",
              "    <tr>\n",
              "      <th>Normal_Nucleoli</th>\n",
              "      <td>0.536176</td>\n",
              "      <td>0.722699</td>\n",
              "      <td>0.719272</td>\n",
              "      <td>0.603132</td>\n",
              "      <td>0.628704</td>\n",
              "      <td>0.584022</td>\n",
              "      <td>0.665914</td>\n",
              "      <td>1.000000</td>\n",
              "      <td>0.428185</td>\n",
              "      <td>0.712067</td>\n",
              "    </tr>\n",
              "    <tr>\n",
              "      <th>Mitoses</th>\n",
              "      <td>0.350176</td>\n",
              "      <td>0.458548</td>\n",
              "      <td>0.438756</td>\n",
              "      <td>0.417476</td>\n",
              "      <td>0.478975</td>\n",
              "      <td>0.339005</td>\n",
              "      <td>0.344118</td>\n",
              "      <td>0.428185</td>\n",
              "      <td>1.000000</td>\n",
              "      <td>0.423008</td>\n",
              "    </tr>\n",
              "    <tr>\n",
              "      <th>Class</th>\n",
              "      <td>0.716509</td>\n",
              "      <td>0.817772</td>\n",
              "      <td>0.818794</td>\n",
              "      <td>0.696605</td>\n",
              "      <td>0.682618</td>\n",
              "      <td>0.822563</td>\n",
              "      <td>0.756732</td>\n",
              "      <td>0.712067</td>\n",
              "      <td>0.423008</td>\n",
              "      <td>1.000000</td>\n",
              "    </tr>\n",
              "  </tbody>\n",
              "</table>\n",
              "</div>\n",
              "      <button class=\"colab-df-convert\" onclick=\"convertToInteractive('df-69305e32-08ae-4fef-9438-50a8921c6821')\"\n",
              "              title=\"Convert this dataframe to an interactive table.\"\n",
              "              style=\"display:none;\">\n",
              "        \n",
              "  <svg xmlns=\"http://www.w3.org/2000/svg\" height=\"24px\"viewBox=\"0 0 24 24\"\n",
              "       width=\"24px\">\n",
              "    <path d=\"M0 0h24v24H0V0z\" fill=\"none\"/>\n",
              "    <path d=\"M18.56 5.44l.94 2.06.94-2.06 2.06-.94-2.06-.94-.94-2.06-.94 2.06-2.06.94zm-11 1L8.5 8.5l.94-2.06 2.06-.94-2.06-.94L8.5 2.5l-.94 2.06-2.06.94zm10 10l.94 2.06.94-2.06 2.06-.94-2.06-.94-.94-2.06-.94 2.06-2.06.94z\"/><path d=\"M17.41 7.96l-1.37-1.37c-.4-.4-.92-.59-1.43-.59-.52 0-1.04.2-1.43.59L10.3 9.45l-7.72 7.72c-.78.78-.78 2.05 0 2.83L4 21.41c.39.39.9.59 1.41.59.51 0 1.02-.2 1.41-.59l7.78-7.78 2.81-2.81c.8-.78.8-2.07 0-2.86zM5.41 20L4 18.59l7.72-7.72 1.47 1.35L5.41 20z\"/>\n",
              "  </svg>\n",
              "      </button>\n",
              "      \n",
              "  <style>\n",
              "    .colab-df-container {\n",
              "      display:flex;\n",
              "      flex-wrap:wrap;\n",
              "      gap: 12px;\n",
              "    }\n",
              "\n",
              "    .colab-df-convert {\n",
              "      background-color: #E8F0FE;\n",
              "      border: none;\n",
              "      border-radius: 50%;\n",
              "      cursor: pointer;\n",
              "      display: none;\n",
              "      fill: #1967D2;\n",
              "      height: 32px;\n",
              "      padding: 0 0 0 0;\n",
              "      width: 32px;\n",
              "    }\n",
              "\n",
              "    .colab-df-convert:hover {\n",
              "      background-color: #E2EBFA;\n",
              "      box-shadow: 0px 1px 2px rgba(60, 64, 67, 0.3), 0px 1px 3px 1px rgba(60, 64, 67, 0.15);\n",
              "      fill: #174EA6;\n",
              "    }\n",
              "\n",
              "    [theme=dark] .colab-df-convert {\n",
              "      background-color: #3B4455;\n",
              "      fill: #D2E3FC;\n",
              "    }\n",
              "\n",
              "    [theme=dark] .colab-df-convert:hover {\n",
              "      background-color: #434B5C;\n",
              "      box-shadow: 0px 1px 3px 1px rgba(0, 0, 0, 0.15);\n",
              "      filter: drop-shadow(0px 1px 2px rgba(0, 0, 0, 0.3));\n",
              "      fill: #FFFFFF;\n",
              "    }\n",
              "  </style>\n",
              "\n",
              "      <script>\n",
              "        const buttonEl =\n",
              "          document.querySelector('#df-69305e32-08ae-4fef-9438-50a8921c6821 button.colab-df-convert');\n",
              "        buttonEl.style.display =\n",
              "          google.colab.kernel.accessAllowed ? 'block' : 'none';\n",
              "\n",
              "        async function convertToInteractive(key) {\n",
              "          const element = document.querySelector('#df-69305e32-08ae-4fef-9438-50a8921c6821');\n",
              "          const dataTable =\n",
              "            await google.colab.kernel.invokeFunction('convertToInteractive',\n",
              "                                                     [key], {});\n",
              "          if (!dataTable) return;\n",
              "\n",
              "          const docLinkHtml = 'Like what you see? Visit the ' +\n",
              "            '<a target=\"_blank\" href=https://colab.research.google.com/notebooks/data_table.ipynb>data table notebook</a>'\n",
              "            + ' to learn more about interactive tables.';\n",
              "          element.innerHTML = '';\n",
              "          dataTable['output_type'] = 'display_data';\n",
              "          await google.colab.output.renderOutput(dataTable, element);\n",
              "          const docLink = document.createElement('div');\n",
              "          docLink.innerHTML = docLinkHtml;\n",
              "          element.appendChild(docLink);\n",
              "        }\n",
              "      </script>\n",
              "    </div>\n",
              "  </div>\n",
              "  "
            ]
          },
          "metadata": {},
          "execution_count": 60
        }
      ]
    },
    {
      "cell_type": "code",
      "source": [
        "correlation['Class'].sort_values(ascending=False)"
      ],
      "metadata": {
        "colab": {
          "base_uri": "https://localhost:8080/"
        },
        "id": "pakUoXll3etc",
        "outputId": "60736420-7b95-48e8-a780-0e811d65e91c"
      },
      "execution_count": 61,
      "outputs": [
        {
          "output_type": "execute_result",
          "data": {
            "text/plain": [
              "Class                          1.000000\n",
              "Bare_Nuclei                    0.822563\n",
              "Uniformity_Cell_Shape          0.818794\n",
              "Uniformity_Cell_Size           0.817772\n",
              "Bland_Chromatin                0.756732\n",
              "Clump_thickness                0.716509\n",
              "Normal_Nucleoli                0.712067\n",
              "Marginal_Adhesion              0.696605\n",
              "Single_Epithelial_Cell_Size    0.682618\n",
              "Mitoses                        0.423008\n",
              "Name: Class, dtype: float64"
            ]
          },
          "metadata": {},
          "execution_count": 61
        }
      ]
    },
    {
      "cell_type": "code",
      "source": [
        "import seaborn as sns\n",
        "a = sns.heatmap(correlation, square=True, annot=True, fmt='.2f', linecolor='white')\n",
        "a.set_xticklabels(a.get_xticklabels(), rotation=90)\n",
        "a.set_yticklabels(a.get_yticklabels(), rotation=30)  "
      ],
      "metadata": {
        "colab": {
          "base_uri": "https://localhost:8080/",
          "height": 763
        },
        "id": "ILL09MDW3gkX",
        "outputId": "7db34e1d-51be-4885-c867-b4a12e359bfa"
      },
      "execution_count": 62,
      "outputs": [
        {
          "output_type": "execute_result",
          "data": {
            "text/plain": [
              "[Text(0, 0.5, 'Clump_thickness'),\n",
              " Text(0, 1.5, 'Uniformity_Cell_Size'),\n",
              " Text(0, 2.5, 'Uniformity_Cell_Shape'),\n",
              " Text(0, 3.5, 'Marginal_Adhesion'),\n",
              " Text(0, 4.5, 'Single_Epithelial_Cell_Size'),\n",
              " Text(0, 5.5, 'Bare_Nuclei'),\n",
              " Text(0, 6.5, 'Bland_Chromatin'),\n",
              " Text(0, 7.5, 'Normal_Nucleoli'),\n",
              " Text(0, 8.5, 'Mitoses'),\n",
              " Text(0, 9.5, 'Class')]"
            ]
          },
          "metadata": {},
          "execution_count": 62
        },
        {
          "output_type": "display_data",
          "data": {
            "text/plain": [
              "<Figure size 2160x1800 with 2 Axes>"
            ],
            "image/png": "[encoded data removed]"
          },
          "metadata": {
            "needs_background": "light"
          }
        }
      ]
    },
    {
      "cell_type": "code",
      "source": [
        "X = df.drop(['Class'], axis=1)\n",
        "\n",
        "y = df['Class']"
      ],
      "metadata": {
        "id": "qrz0VHI_3iSw"
      },
      "execution_count": 63,
      "outputs": []
    },
    {
      "cell_type": "code",
      "source": [
        "from sklearn.model_selection import train_test_split\n",
        "\n",
        "X_train, X_test, y_train, y_test = train_test_split(X, y, test_size = 0.2, random_state = 0)"
      ],
      "metadata": {
        "id": "fslokVrX3kt0"
      },
      "execution_count": 64,
      "outputs": []
    },
    {
      "cell_type": "code",
      "source": [
        "X_train.shape, X_test.shape"
      ],
      "metadata": {
        "colab": {
          "base_uri": "https://localhost:8080/"
        },
        "id": "0vHxXfbT3meD",
        "outputId": "37446076-99f0-41fe-c2a8-ccb89a17ec0d"
      },
      "execution_count": 65,
      "outputs": [
        {
          "output_type": "execute_result",
          "data": {
            "text/plain": [
              "((558, 9), (140, 9))"
            ]
          },
          "metadata": {},
          "execution_count": 65
        }
      ]
    },
    {
      "cell_type": "code",
      "source": [
        "cols = X_train.columns"
      ],
      "metadata": {
        "id": "OBb8T8SU3n70"
      },
      "execution_count": 66,
      "outputs": []
    },
    {
      "cell_type": "code",
      "source": [
        "from sklearn.preprocessing import StandardScaler\n",
        "\n",
        "scaler = StandardScaler()\n",
        "\n",
        "X_train = scaler.fit_transform(X_train)\n",
        "\n",
        "X_test = scaler.transform(X_test)"
      ],
      "metadata": {
        "id": "hcjclamN3r1L"
      },
      "execution_count": 67,
      "outputs": []
    },
    {
      "cell_type": "code",
      "source": [
        "X_train = pd.DataFrame(X_train, columns=[cols])"
      ],
      "metadata": {
        "id": "cMvYAWeN3uAM"
      },
      "execution_count": 68,
      "outputs": []
    },
    {
      "cell_type": "code",
      "source": [
        "X_test = pd.DataFrame(X_test, columns=[cols])"
      ],
      "metadata": {
        "id": "XqXebGUP3vmp"
      },
      "execution_count": 69,
      "outputs": []
    },
    {
      "cell_type": "code",
      "source": [
        "X_train.head()"
      ],
      "metadata": {
        "colab": {
          "base_uri": "https://localhost:8080/",
          "height": 270
        },
        "id": "otikWmqE3w6R",
        "outputId": "b6cc416b-124d-433b-d802-e3fb9f1c9d2c"
      },
      "execution_count": 70,
      "outputs": [
        {
          "output_type": "execute_result",
          "data": {
            "text/plain": [
              "  Clump_thickness Uniformity_Cell_Size Uniformity_Cell_Shape  \\\n",
              "0        0.574621            -0.040143              0.277515   \n",
              "1       -0.497748            -0.680143             -0.721540   \n",
              "2        0.932077             1.879857              0.277515   \n",
              "3        0.932077             0.599857              0.943552   \n",
              "4       -0.855205            -0.680143             -0.721540   \n",
              "\n",
              "  Marginal_Adhesion Single_Epithelial_Cell_Size Bare_Nuclei Bland_Chromatin  \\\n",
              "0         -0.629622                    0.775913   -0.399352       -0.171342   \n",
              "1         -0.629622                   -0.549473   -0.674192       -0.171342   \n",
              "2          2.541854                    2.984890   -0.124513        0.660039   \n",
              "3          0.075150                   -0.107678    1.249685        1.491419   \n",
              "4         -0.629622                   -0.549473   -0.674192       -1.002722   \n",
              "\n",
              "  Normal_Nucleoli   Mitoses  \n",
              "0        1.983330 -0.333601  \n",
              "1       -0.601658 -0.333601  \n",
              "2        0.044589  0.859663  \n",
              "3        0.367712 -0.333601  \n",
              "4       -0.601658 -0.333601  "
            ],
            "text/html": [
              "\n",
              "  <div id=\"df-5523c067-5673-44d9-a6e1-2d88deeb9b71\">\n",
              "    <div class=\"colab-df-container\">\n",
              "      <div>\n",
              "<style scoped>\n",
              "    .dataframe tbody tr th:only-of-type {\n",
              "        vertical-align: middle;\n",
              "    }\n",
              "\n",
              "    .dataframe tbody tr th {\n",
              "        vertical-align: top;\n",
              "    }\n",
              "\n",
              "    .dataframe thead tr th {\n",
              "        text-align: left;\n",
              "    }\n",
              "</style>\n",
              "<table border=\"1\" class=\"dataframe\">\n",
              "  <thead>\n",
              "    <tr>\n",
              "      <th></th>\n",
              "      <th>Clump_thickness</th>\n",
              "      <th>Uniformity_Cell_Size</th>\n",
              "      <th>Uniformity_Cell_Shape</th>\n",
              "      <th>Marginal_Adhesion</th>\n",
              "      <th>Single_Epithelial_Cell_Size</th>\n",
              "      <th>Bare_Nuclei</th>\n",
              "      <th>Bland_Chromatin</th>\n",
              "      <th>Normal_Nucleoli</th>\n",
              "      <th>Mitoses</th>\n",
              "    </tr>\n",
              "  </thead>\n",
              "  <tbody>\n",
              "    <tr>\n",
              "      <th>0</th>\n",
              "      <td>0.574621</td>\n",
              "      <td>-0.040143</td>\n",
              "      <td>0.277515</td>\n",
              "      <td>-0.629622</td>\n",
              "      <td>0.775913</td>\n",
              "      <td>-0.399352</td>\n",
              "      <td>-0.171342</td>\n",
              "      <td>1.983330</td>\n",
              "      <td>-0.333601</td>\n",
              "    </tr>\n",
              "    <tr>\n",
              "      <th>1</th>\n",
              "      <td>-0.497748</td>\n",
              "      <td>-0.680143</td>\n",
              "      <td>-0.721540</td>\n",
              "      <td>-0.629622</td>\n",
              "      <td>-0.549473</td>\n",
              "      <td>-0.674192</td>\n",
              "      <td>-0.171342</td>\n",
              "      <td>-0.601658</td>\n",
              "      <td>-0.333601</td>\n",
              "    </tr>\n",
              "    <tr>\n",
              "      <th>2</th>\n",
              "      <td>0.932077</td>\n",
              "      <td>1.879857</td>\n",
              "      <td>0.277515</td>\n",
              "      <td>2.541854</td>\n",
              "      <td>2.984890</td>\n",
              "      <td>-0.124513</td>\n",
              "      <td>0.660039</td>\n",
              "      <td>0.044589</td>\n",
              "      <td>0.859663</td>\n",
              "    </tr>\n",
              "    <tr>\n",
              "      <th>3</th>\n",
              "      <td>0.932077</td>\n",
              "      <td>0.599857</td>\n",
              "      <td>0.943552</td>\n",
              "      <td>0.075150</td>\n",
              "      <td>-0.107678</td>\n",
              "      <td>1.249685</td>\n",
              "      <td>1.491419</td>\n",
              "      <td>0.367712</td>\n",
              "      <td>-0.333601</td>\n",
              "    </tr>\n",
              "    <tr>\n",
              "      <th>4</th>\n",
              "      <td>-0.855205</td>\n",
              "      <td>-0.680143</td>\n",
              "      <td>-0.721540</td>\n",
              "      <td>-0.629622</td>\n",
              "      <td>-0.549473</td>\n",
              "      <td>-0.674192</td>\n",
              "      <td>-1.002722</td>\n",
              "      <td>-0.601658</td>\n",
              "      <td>-0.333601</td>\n",
              "    </tr>\n",
              "  </tbody>\n",
              "</table>\n",
              "</div>\n",
              "      <button class=\"colab-df-convert\" onclick=\"convertToInteractive('df-5523c067-5673-44d9-a6e1-2d88deeb9b71')\"\n",
              "              title=\"Convert this dataframe to an interactive table.\"\n",
              "              style=\"display:none;\">\n",
              "        \n",
              "  <svg xmlns=\"http://www.w3.org/2000/svg\" height=\"24px\"viewBox=\"0 0 24 24\"\n",
              "       width=\"24px\">\n",
              "    <path d=\"M0 0h24v24H0V0z\" fill=\"none\"/>\n",
              "    <path d=\"M18.56 5.44l.94 2.06.94-2.06 2.06-.94-2.06-.94-.94-2.06-.94 2.06-2.06.94zm-11 1L8.5 8.5l.94-2.06 2.06-.94-2.06-.94L8.5 2.5l-.94 2.06-2.06.94zm10 10l.94 2.06.94-2.06 2.06-.94-2.06-.94-.94-2.06-.94 2.06-2.06.94z\"/><path d=\"M17.41 7.96l-1.37-1.37c-.4-.4-.92-.59-1.43-.59-.52 0-1.04.2-1.43.59L10.3 9.45l-7.72 7.72c-.78.78-.78 2.05 0 2.83L4 21.41c.39.39.9.59 1.41.59.51 0 1.02-.2 1.41-.59l7.78-7.78 2.81-2.81c.8-.78.8-2.07 0-2.86zM5.41 20L4 18.59l7.72-7.72 1.47 1.35L5.41 20z\"/>\n",
              "  </svg>\n",
              "      </button>\n",
              "      \n",
              "  <style>\n",
              "    .colab-df-container {\n",
              "      display:flex;\n",
              "      flex-wrap:wrap;\n",
              "      gap: 12px;\n",
              "    }\n",
              "\n",
              "    .colab-df-convert {\n",
              "      background-color: #E8F0FE;\n",
              "      border: none;\n",
              "      border-radius: 50%;\n",
              "      cursor: pointer;\n",
              "      display: none;\n",
              "      fill: #1967D2;\n",
              "      height: 32px;\n",
              "      padding: 0 0 0 0;\n",
              "      width: 32px;\n",
              "    }\n",
              "\n",
              "    .colab-df-convert:hover {\n",
              "      background-color: #E2EBFA;\n",
              "      box-shadow: 0px 1px 2px rgba(60, 64, 67, 0.3), 0px 1px 3px 1px rgba(60, 64, 67, 0.15);\n",
              "      fill: #174EA6;\n",
              "    }\n",
              "\n",
              "    [theme=dark] .colab-df-convert {\n",
              "      background-color: #3B4455;\n",
              "      fill: #D2E3FC;\n",
              "    }\n",
              "\n",
              "    [theme=dark] .colab-df-convert:hover {\n",
              "      background-color: #434B5C;\n",
              "      box-shadow: 0px 1px 3px 1px rgba(0, 0, 0, 0.15);\n",
              "      filter: drop-shadow(0px 1px 2px rgba(0, 0, 0, 0.3));\n",
              "      fill: #FFFFFF;\n",
              "    }\n",
              "  </style>\n",
              "\n",
              "      <script>\n",
              "        const buttonEl =\n",
              "          document.querySelector('#df-5523c067-5673-44d9-a6e1-2d88deeb9b71 button.colab-df-convert');\n",
              "        buttonEl.style.display =\n",
              "          google.colab.kernel.accessAllowed ? 'block' : 'none';\n",
              "\n",
              "        async function convertToInteractive(key) {\n",
              "          const element = document.querySelector('#df-5523c067-5673-44d9-a6e1-2d88deeb9b71');\n",
              "          const dataTable =\n",
              "            await google.colab.kernel.invokeFunction('convertToInteractive',\n",
              "                                                     [key], {});\n",
              "          if (!dataTable) return;\n",
              "\n",
              "          const docLinkHtml = 'Like what you see? Visit the ' +\n",
              "            '<a target=\"_blank\" href=https://colab.research.google.com/notebooks/data_table.ipynb>data table notebook</a>'\n",
              "            + ' to learn more about interactive tables.';\n",
              "          element.innerHTML = '';\n",
              "          dataTable['output_type'] = 'display_data';\n",
              "          await google.colab.output.renderOutput(dataTable, element);\n",
              "          const docLink = document.createElement('div');\n",
              "          docLink.innerHTML = docLinkHtml;\n",
              "          element.appendChild(docLink);\n",
              "        }\n",
              "      </script>\n",
              "    </div>\n",
              "  </div>\n",
              "  "
            ]
          },
          "metadata": {},
          "execution_count": 70
        }
      ]
    },
    {
      "cell_type": "code",
      "source": [
        "# impute missing values in X_train and X_test with respective column median in X_train\n",
        "\n",
        "for df1 in [X_train, X_test]:\n",
        "    for col in X_train.columns:\n",
        "        col_median=X_train[col].median()\n",
        "        df1[col].fillna(col_median, inplace=True)    \n",
        "# print percentage of missing values in the numerical variables in training set\n",
        "\n",
        "for col in X_train.columns:\n",
        "    if X_train[col].isnull().mean()>0:\n",
        "        print(col, round(X_train[col].isnull().mean(),4))\n",
        "# import KNeighbors ClaSSifier from sklearn\n",
        "from sklearn.neighbors import KNeighborsClassifier\n",
        "\n",
        "\n",
        "# instantiate the model\n",
        "knn = KNeighborsClassifier(n_neighbors=3)\n",
        "\n",
        "\n",
        "# fit the model to the training set\n",
        "knn.fit(X_train, y_train)"
      ],
      "metadata": {
        "colab": {
          "base_uri": "https://localhost:8080/"
        },
        "id": "t5_H-S4j3yhl",
        "outputId": "561f68fd-fd0a-4c3a-ab06-3ccdd52e0b63"
      },
      "execution_count": 73,
      "outputs": [
        {
          "output_type": "stream",
          "name": "stderr",
          "text": [
            "/usr/local/lib/python3.8/dist-packages/sklearn/utils/validation.py:1688: FutureWarning: Feature names only support names that are all strings. Got feature names with dtypes: ['tuple']. An error will be raised in 1.2.\n",
            "  warnings.warn(\n"
          ]
        },
        {
          "output_type": "execute_result",
          "data": {
            "text/plain": [
              "KNeighborsClassifier(n_neighbors=3)"
            ]
          },
          "metadata": {},
          "execution_count": 73
        }
      ]
    },
    {
      "cell_type": "code",
      "source": [
        "y_pred = knn.predict(X_test)\n",
        "\n",
        "y_pred"
      ],
      "metadata": {
        "colab": {
          "base_uri": "https://localhost:8080/"
        },
        "id": "uyJKDlpG30XS",
        "outputId": "69745dda-e64f-4bb2-98a6-2e518724307d"
      },
      "execution_count": 74,
      "outputs": [
        {
          "output_type": "stream",
          "name": "stderr",
          "text": [
            "/usr/local/lib/python3.8/dist-packages/sklearn/utils/validation.py:1688: FutureWarning: Feature names only support names that are all strings. Got feature names with dtypes: ['tuple']. An error will be raised in 1.2.\n",
            "  warnings.warn(\n"
          ]
        },
        {
          "output_type": "execute_result",
          "data": {
            "text/plain": [
              "array([4, 2, 4, 4, 2, 2, 2, 2, 2, 2, 2, 2, 2, 2, 2, 2, 2, 2, 4, 4, 2, 4,\n",
              "       4, 4, 2, 4, 4, 4, 2, 2, 4, 2, 2, 2, 2, 2, 2, 4, 2, 2, 2, 2, 2, 4,\n",
              "       4, 4, 2, 4, 2, 4, 2, 2, 2, 4, 2, 2, 2, 2, 2, 4, 4, 4, 4, 4, 2, 4,\n",
              "       4, 2, 4, 4, 2, 2, 4, 2, 2, 2, 4, 2, 4, 2, 4, 2, 2, 2, 2, 2, 4, 2,\n",
              "       2, 4, 4, 4, 2, 4, 2, 4, 2, 2, 2, 2, 4, 4, 4, 4, 2, 2, 4, 2, 2, 2,\n",
              "       2, 4, 2, 2, 2, 2, 4, 2, 2, 4, 2, 2, 4, 4, 4, 2, 2, 4, 2, 2, 4, 4,\n",
              "       2, 4, 2, 2, 2, 2, 4, 4])"
            ]
          },
          "metadata": {},
          "execution_count": 74
        }
      ]
    },
    {
      "cell_type": "code",
      "source": [
        "knn.predict_proba(X_test)[:,0]"
      ],
      "metadata": {
        "colab": {
          "base_uri": "https://localhost:8080/"
        },
        "id": "DJEdt__Y33bT",
        "outputId": "dacbde92-2b37-4518-ce4d-6796afd8f461"
      },
      "execution_count": 75,
      "outputs": [
        {
          "output_type": "stream",
          "name": "stderr",
          "text": [
            "/usr/local/lib/python3.8/dist-packages/sklearn/utils/validation.py:1688: FutureWarning: Feature names only support names that are all strings. Got feature names with dtypes: ['tuple']. An error will be raised in 1.2.\n",
            "  warnings.warn(\n"
          ]
        },
        {
          "output_type": "execute_result",
          "data": {
            "text/plain": [
              "array([0.        , 1.        , 0.        , 0.33333333, 1.        ,\n",
              "       1.        , 1.        , 1.        , 1.        , 1.        ,\n",
              "       1.        , 1.        , 1.        , 1.        , 1.        ,\n",
              "       1.        , 1.        , 1.        , 0.        , 0.        ,\n",
              "       1.        , 0.        , 0.        , 0.        , 1.        ,\n",
              "       0.        , 0.        , 0.        , 0.66666667, 1.        ,\n",
              "       0.        , 1.        , 1.        , 1.        , 1.        ,\n",
              "       1.        , 1.        , 0.        , 1.        , 1.        ,\n",
              "       1.        , 1.        , 1.        , 0.        , 0.        ,\n",
              "       0.        , 1.        , 0.        , 1.        , 0.        ,\n",
              "       1.        , 1.        , 1.        , 0.        , 1.        ,\n",
              "       1.        , 1.        , 1.        , 1.        , 0.        ,\n",
              "       0.        , 0.33333333, 0.        , 0.        , 1.        ,\n",
              "       0.        , 0.        , 1.        , 0.        , 0.        ,\n",
              "       1.        , 1.        , 0.        , 1.        , 1.        ,\n",
              "       1.        , 0.33333333, 1.        , 0.        , 1.        ,\n",
              "       0.        , 1.        , 1.        , 1.        , 1.        ,\n",
              "       1.        , 0.        , 1.        , 1.        , 0.        ,\n",
              "       0.        , 0.        , 1.        , 0.33333333, 1.        ,\n",
              "       0.        , 1.        , 1.        , 1.        , 1.        ,\n",
              "       0.33333333, 0.        , 0.        , 0.        , 1.        ,\n",
              "       1.        , 0.33333333, 1.        , 1.        , 1.        ,\n",
              "       1.        , 0.33333333, 1.        , 0.66666667, 0.66666667,\n",
              "       1.        , 0.        , 1.        , 1.        , 0.        ,\n",
              "       1.        , 1.        , 0.        , 0.33333333, 0.        ,\n",
              "       1.        , 1.        , 0.        , 1.        , 1.        ,\n",
              "       0.        , 0.        , 1.        , 0.        , 1.        ,\n",
              "       1.        , 1.        , 1.        , 0.        , 0.33333333])"
            ]
          },
          "metadata": {},
          "execution_count": 75
        }
      ]
    },
    {
      "cell_type": "code",
      "source": [
        "knn.predict_proba(X_test)[:,1]"
      ],
      "metadata": {
        "colab": {
          "base_uri": "https://localhost:8080/"
        },
        "id": "DCM6AZOM36nE",
        "outputId": "3cb062f6-47bc-4f46-ba37-18f68fe30993"
      },
      "execution_count": 76,
      "outputs": [
        {
          "output_type": "stream",
          "name": "stderr",
          "text": [
            "/usr/local/lib/python3.8/dist-packages/sklearn/utils/validation.py:1688: FutureWarning: Feature names only support names that are all strings. Got feature names with dtypes: ['tuple']. An error will be raised in 1.2.\n",
            "  warnings.warn(\n"
          ]
        },
        {
          "output_type": "execute_result",
          "data": {
            "text/plain": [
              "array([1.        , 0.        , 1.        , 0.66666667, 0.        ,\n",
              "       0.        , 0.        , 0.        , 0.        , 0.        ,\n",
              "       0.        , 0.        , 0.        , 0.        , 0.        ,\n",
              "       0.        , 0.        , 0.        , 1.        , 1.        ,\n",
              "       0.        , 1.        , 1.        , 1.        , 0.        ,\n",
              "       1.        , 1.        , 1.        , 0.33333333, 0.        ,\n",
              "       1.        , 0.        , 0.        , 0.        , 0.        ,\n",
              "       0.        , 0.        , 1.        , 0.        , 0.        ,\n",
              "       0.        , 0.        , 0.        , 1.        , 1.        ,\n",
              "       1.        , 0.        , 1.        , 0.        , 1.        ,\n",
              "       0.        , 0.        , 0.        , 1.        , 0.        ,\n",
              "       0.        , 0.        , 0.        , 0.        , 1.        ,\n",
              "       1.        , 0.66666667, 1.        , 1.        , 0.        ,\n",
              "       1.        , 1.        , 0.        , 1.        , 1.        ,\n",
              "       0.        , 0.        , 1.        , 0.        , 0.        ,\n",
              "       0.        , 0.66666667, 0.        , 1.        , 0.        ,\n",
              "       1.        , 0.        , 0.        , 0.        , 0.        ,\n",
              "       0.        , 1.        , 0.        , 0.        , 1.        ,\n",
              "       1.        , 1.        , 0.        , 0.66666667, 0.        ,\n",
              "       1.        , 0.        , 0.        , 0.        , 0.        ,\n",
              "       0.66666667, 1.        , 1.        , 1.        , 0.        ,\n",
              "       0.        , 0.66666667, 0.        , 0.        , 0.        ,\n",
              "       0.        , 0.66666667, 0.        , 0.33333333, 0.33333333,\n",
              "       0.        , 1.        , 0.        , 0.        , 1.        ,\n",
              "       0.        , 0.        , 1.        , 0.66666667, 1.        ,\n",
              "       0.        , 0.        , 1.        , 0.        , 0.        ,\n",
              "       1.        , 1.        , 0.        , 1.        , 0.        ,\n",
              "       0.        , 0.        , 0.        , 1.        , 0.66666667])"
            ]
          },
          "metadata": {},
          "execution_count": 76
        }
      ]
    },
    {
      "cell_type": "code",
      "source": [
        "from sklearn.metrics import accuracy_score\n",
        "\n",
        "print('Model accuracy score: {0:0.4f}'. format(accuracy_score(y_test, y_pred)))"
      ],
      "metadata": {
        "colab": {
          "base_uri": "https://localhost:8080/"
        },
        "id": "YMcWV7L039Ja",
        "outputId": "e9d5d815-83ae-48e8-ea0c-0c089ee0a8d2"
      },
      "execution_count": 77,
      "outputs": [
        {
          "output_type": "stream",
          "name": "stdout",
          "text": [
            "Model accuracy score: 0.9714\n"
          ]
        }
      ]
    },
    {
      "cell_type": "code",
      "source": [
        "y_pred_train = knn.predict(X_train)\n",
        "print('Training-set accuracy score: {0:0.4f}'. format(accuracy_score(y_train, y_pred_train)))"
      ],
      "metadata": {
        "colab": {
          "base_uri": "https://localhost:8080/"
        },
        "id": "yf-3Ms553-kL",
        "outputId": "8b6b432a-c6bf-4ad0-ce5b-ad1a7b7fbd2a"
      },
      "execution_count": 78,
      "outputs": [
        {
          "output_type": "stream",
          "name": "stdout",
          "text": [
            "Training-set accuracy score: 0.9803\n"
          ]
        },
        {
          "output_type": "stream",
          "name": "stderr",
          "text": [
            "/usr/local/lib/python3.8/dist-packages/sklearn/utils/validation.py:1688: FutureWarning: Feature names only support names that are all strings. Got feature names with dtypes: ['tuple']. An error will be raised in 1.2.\n",
            "  warnings.warn(\n"
          ]
        }
      ]
    },
    {
      "cell_type": "code",
      "source": [
        "# print the scores on training and test set\n",
        "\n",
        "print('Training set score: {:.4f}'.format(knn.score(X_train, y_train)))\n",
        "\n",
        "print('Test set score: {:.4f}'.format(knn.score(X_test, y_test)))"
      ],
      "metadata": {
        "colab": {
          "base_uri": "https://localhost:8080/"
        },
        "id": "OvSRZ6rz4A-u",
        "outputId": "5fb89c97-f337-4dee-9bba-5379e0d7ac1a"
      },
      "execution_count": 79,
      "outputs": [
        {
          "output_type": "stream",
          "name": "stdout",
          "text": [
            "Training set score: 0.9803\n",
            "Test set score: 0.9714\n"
          ]
        },
        {
          "output_type": "stream",
          "name": "stderr",
          "text": [
            "/usr/local/lib/python3.8/dist-packages/sklearn/utils/validation.py:1688: FutureWarning: Feature names only support names that are all strings. Got feature names with dtypes: ['tuple']. An error will be raised in 1.2.\n",
            "  warnings.warn(\n",
            "/usr/local/lib/python3.8/dist-packages/sklearn/utils/validation.py:1688: FutureWarning: Feature names only support names that are all strings. Got feature names with dtypes: ['tuple']. An error will be raised in 1.2.\n",
            "  warnings.warn(\n"
          ]
        }
      ]
    },
    {
      "cell_type": "code",
      "source": [
        "# instantiate the model with k=5\n",
        "knn_5 = KNeighborsClassifier(n_neighbors=5)\n",
        "\n",
        "\n",
        "# fit the model to the training set\n",
        "knn_5.fit(X_train, y_train)\n",
        "\n",
        "\n",
        "# predict on the test-set\n",
        "y_pred_5 = knn_5.predict(X_test)\n",
        "\n",
        "\n",
        "print('Model accuracy score with k=5 : {0:0.4f}'. format(accuracy_score(y_test, y_pred_5)))"
      ],
      "metadata": {
        "colab": {
          "base_uri": "https://localhost:8080/"
        },
        "id": "E1fec7tM4CVb",
        "outputId": "08c5fbb6-d07f-4553-8eab-45d6e736eaf4"
      },
      "execution_count": 80,
      "outputs": [
        {
          "output_type": "stream",
          "name": "stdout",
          "text": [
            "Model accuracy score with k=5 : 0.9714\n"
          ]
        },
        {
          "output_type": "stream",
          "name": "stderr",
          "text": [
            "/usr/local/lib/python3.8/dist-packages/sklearn/utils/validation.py:1688: FutureWarning: Feature names only support names that are all strings. Got feature names with dtypes: ['tuple']. An error will be raised in 1.2.\n",
            "  warnings.warn(\n",
            "/usr/local/lib/python3.8/dist-packages/sklearn/utils/validation.py:1688: FutureWarning: Feature names only support names that are all strings. Got feature names with dtypes: ['tuple']. An error will be raised in 1.2.\n",
            "  warnings.warn(\n"
          ]
        }
      ]
    },
    {
      "cell_type": "code",
      "source": [
        "# instantiate the model with k=6\n",
        "knn_6 = KNeighborsClassifier(n_neighbors=6)\n",
        "\n",
        "\n",
        "# fit the model to the training set\n",
        "knn_6.fit(X_train, y_train)\n",
        "\n",
        "\n",
        "# predict on the test-set\n",
        "y_pred_6 = knn_6.predict(X_test)\n",
        "\n",
        "\n",
        "print('Model accuracy score with k=6 : {0:0.4f}'. format(accuracy_score(y_test, y_pred_6)))"
      ],
      "metadata": {
        "colab": {
          "base_uri": "https://localhost:8080/"
        },
        "id": "FvwMHNI94GPV",
        "outputId": "f388e025-fc6a-400f-a87c-63718f5681e0"
      },
      "execution_count": 81,
      "outputs": [
        {
          "output_type": "stream",
          "name": "stdout",
          "text": [
            "Model accuracy score with k=6 : 0.9643\n"
          ]
        },
        {
          "output_type": "stream",
          "name": "stderr",
          "text": [
            "/usr/local/lib/python3.8/dist-packages/sklearn/utils/validation.py:1688: FutureWarning: Feature names only support names that are all strings. Got feature names with dtypes: ['tuple']. An error will be raised in 1.2.\n",
            "  warnings.warn(\n",
            "/usr/local/lib/python3.8/dist-packages/sklearn/utils/validation.py:1688: FutureWarning: Feature names only support names that are all strings. Got feature names with dtypes: ['tuple']. An error will be raised in 1.2.\n",
            "  warnings.warn(\n"
          ]
        }
      ]
    },
    {
      "cell_type": "code",
      "source": [
        "# instantiate the model with k=7\n",
        "knn_7 = KNeighborsClassifier(n_neighbors=7)\n",
        "\n",
        "\n",
        "# fit the model to the training set\n",
        "knn_7.fit(X_train, y_train)\n",
        "\n",
        "\n",
        "# predict on the test-set\n",
        "y_pred_7 = knn_7.predict(X_test)\n",
        "\n",
        "\n",
        "print('Model accuracy score with k=7 : {0:0.4f}'. format(accuracy_score(y_test, y_pred_7)))"
      ],
      "metadata": {
        "colab": {
          "base_uri": "https://localhost:8080/"
        },
        "id": "XeF_68U14ISP",
        "outputId": "0c9fd2ed-ea35-4034-f63f-e33f9936ef55"
      },
      "execution_count": 82,
      "outputs": [
        {
          "output_type": "stream",
          "name": "stdout",
          "text": [
            "Model accuracy score with k=7 : 0.9571\n"
          ]
        },
        {
          "output_type": "stream",
          "name": "stderr",
          "text": [
            "/usr/local/lib/python3.8/dist-packages/sklearn/utils/validation.py:1688: FutureWarning: Feature names only support names that are all strings. Got feature names with dtypes: ['tuple']. An error will be raised in 1.2.\n",
            "  warnings.warn(\n",
            "/usr/local/lib/python3.8/dist-packages/sklearn/utils/validation.py:1688: FutureWarning: Feature names only support names that are all strings. Got feature names with dtypes: ['tuple']. An error will be raised in 1.2.\n",
            "  warnings.warn(\n"
          ]
        }
      ]
    },
    {
      "cell_type": "code",
      "source": [
        "# instantiate the model with k=8\n",
        "knn_8 = KNeighborsClassifier(n_neighbors=8)\n",
        "\n",
        "\n",
        "# fit the model to the training set\n",
        "knn_8.fit(X_train, y_train)\n",
        "\n",
        "\n",
        "# predict on the test-set\n",
        "y_pred_8 = knn_8.predict(X_test)\n",
        "\n",
        "\n",
        "print('Model accuracy score with k=8 : {0:0.4f}'. format(accuracy_score(y_test, y_pred_8)))"
      ],
      "metadata": {
        "colab": {
          "base_uri": "https://localhost:8080/"
        },
        "id": "W89_Idee4KIy",
        "outputId": "2004f4c8-b626-4bc8-900e-d67c9bb164bc"
      },
      "execution_count": 83,
      "outputs": [
        {
          "output_type": "stream",
          "name": "stderr",
          "text": [
            "/usr/local/lib/python3.8/dist-packages/sklearn/utils/validation.py:1688: FutureWarning: Feature names only support names that are all strings. Got feature names with dtypes: ['tuple']. An error will be raised in 1.2.\n",
            "  warnings.warn(\n"
          ]
        },
        {
          "output_type": "stream",
          "name": "stdout",
          "text": [
            "Model accuracy score with k=8 : 0.9643\n"
          ]
        },
        {
          "output_type": "stream",
          "name": "stderr",
          "text": [
            "/usr/local/lib/python3.8/dist-packages/sklearn/utils/validation.py:1688: FutureWarning: Feature names only support names that are all strings. Got feature names with dtypes: ['tuple']. An error will be raised in 1.2.\n",
            "  warnings.warn(\n"
          ]
        }
      ]
    },
    {
      "cell_type": "code",
      "source": [
        "# instantiate the model with k=9\n",
        "knn_9 = KNeighborsClassifier(n_neighbors=9)\n",
        "\n",
        "\n",
        "# fit the model to the training set\n",
        "knn_9.fit(X_train, y_train)\n",
        "\n",
        "\n",
        "# predict on the test-set\n",
        "y_pred_9 = knn_9.predict(X_test)\n",
        "\n",
        "\n",
        "print('Model accuracy score with k=9 : {0:0.4f}'. format(accuracy_score(y_test, y_pred_9)))"
      ],
      "metadata": {
        "colab": {
          "base_uri": "https://localhost:8080/"
        },
        "id": "GJEyd05X4L8S",
        "outputId": "50e93775-b8c3-4ffb-9dd9-b14364e2db1e"
      },
      "execution_count": 84,
      "outputs": [
        {
          "output_type": "stream",
          "name": "stderr",
          "text": [
            "/usr/local/lib/python3.8/dist-packages/sklearn/utils/validation.py:1688: FutureWarning: Feature names only support names that are all strings. Got feature names with dtypes: ['tuple']. An error will be raised in 1.2.\n",
            "  warnings.warn(\n",
            "/usr/local/lib/python3.8/dist-packages/sklearn/utils/validation.py:1688: FutureWarning: Feature names only support names that are all strings. Got feature names with dtypes: ['tuple']. An error will be raised in 1.2.\n",
            "  warnings.warn(\n"
          ]
        },
        {
          "output_type": "stream",
          "name": "stdout",
          "text": [
            "Model accuracy score with k=9 : 0.9643\n"
          ]
        }
      ]
    },
    {
      "cell_type": "code",
      "source": [
        "# Print the Confusion Matrix with k =3 and slice it into four pieces\n",
        "\n",
        "from sklearn.metrics import confusion_matrix\n",
        "\n",
        "cm = confusion_matrix(y_test, y_pred)\n",
        "\n",
        "print('Confusion matrix\\n\\n', cm)\n",
        "\n",
        "print('\\nTrue Positives(TP) = ', cm[0,0])\n",
        "\n",
        "print('\\nTrue Negatives(TN) = ', cm[1,1])\n",
        "\n",
        "print('\\nFalse Positives(FP) = ', cm[0,1])\n",
        "\n",
        "print('\\nFalse Negatives(FN) = ', cm[1,0])"
      ],
      "metadata": {
        "colab": {
          "base_uri": "https://localhost:8080/"
        },
        "id": "FWF1wqnn4MmJ",
        "outputId": "dd1508aa-68a6-4621-b3b7-e78e2d33e01c"
      },
      "execution_count": 85,
      "outputs": [
        {
          "output_type": "stream",
          "name": "stdout",
          "text": [
            "Confusion matrix\n",
            "\n",
            " [[83  2]\n",
            " [ 2 53]]\n",
            "\n",
            "True Positives(TP) =  83\n",
            "\n",
            "True Negatives(TN) =  53\n",
            "\n",
            "False Positives(FP) =  2\n",
            "\n",
            "False Negatives(FN) =  2\n"
          ]
        }
      ]
    },
    {
      "cell_type": "code",
      "source": [
        "# Print the Confusion Matrix with k =7 and slice it into four pieces\n",
        "\n",
        "cm_7 = confusion_matrix(y_test, y_pred_7)\n",
        "\n",
        "print('Confusion matrix\\n\\n', cm_7)\n",
        "\n",
        "print('\\nTrue Positives(TP) = ', cm_7[0,0])\n",
        "\n",
        "print('\\nTrue Negatives(TN) = ', cm_7[1,1])\n",
        "\n",
        "print('\\nFalse Positives(FP) = ', cm_7[0,1])\n",
        "\n",
        "print('\\nFalse Negatives(FN) = ', cm_7[1,0])"
      ],
      "metadata": {
        "colab": {
          "base_uri": "https://localhost:8080/"
        },
        "id": "CZFDHVAi4QC3",
        "outputId": "a2248c62-1c78-4886-d0fb-41c8461c11f3"
      },
      "execution_count": 86,
      "outputs": [
        {
          "output_type": "stream",
          "name": "stdout",
          "text": [
            "Confusion matrix\n",
            "\n",
            " [[82  3]\n",
            " [ 3 52]]\n",
            "\n",
            "True Positives(TP) =  82\n",
            "\n",
            "True Negatives(TN) =  52\n",
            "\n",
            "False Positives(FP) =  3\n",
            "\n",
            "False Negatives(FN) =  3\n"
          ]
        }
      ]
    },
    {
      "cell_type": "code",
      "source": [
        "# visualize confusion matrix with seaborn heatmap\n",
        "\n",
        "\n",
        "\n",
        "cm_matrix = pd.DataFrame(data=cm_7, columns=['Actual Positive:1', 'Actual Negative:0'], \n",
        "                                 index=['Predict Positive:1', 'Predict Negative:0'])\n",
        "\n",
        "sns.heatmap(cm_matrix, annot=True, fmt='d', cmap='YlGnBu')"
      ],
      "metadata": {
        "colab": {
          "base_uri": "https://localhost:8080/",
          "height": 601
        },
        "id": "SQry9HWk4RuI",
        "outputId": "10f83185-6d23-401e-8f0c-52bb8846d031"
      },
      "execution_count": 87,
      "outputs": [
        {
          "output_type": "execute_result",
          "data": {
            "text/plain": [
              "<matplotlib.axes._subplots.AxesSubplot at 0x7f9e11ab3190>"
            ]
          },
          "metadata": {},
          "execution_count": 87
        },
        {
          "output_type": "display_data",
          "data": {
            "text/plain": [
              "<Figure size 2160x1800 with 2 Axes>"
            ],
            "image/png": "[encoded data removed]"
          },
          "metadata": {
            "needs_background": "light"
          }
        }
      ]
    },
    {
      "cell_type": "code",
      "source": [
        "from sklearn.metrics import classification_report\n",
        "\n",
        "print(classification_report(y_test, y_pred_7))"
      ],
      "metadata": {
        "colab": {
          "base_uri": "https://localhost:8080/"
        },
        "id": "DMPICy7Z4TMJ",
        "outputId": "f4196e05-d535-4abc-c27d-18201c721a00"
      },
      "execution_count": 88,
      "outputs": [
        {
          "output_type": "stream",
          "name": "stdout",
          "text": [
            "              precision    recall  f1-score   support\n",
            "\n",
            "           2       0.96      0.96      0.96        85\n",
            "           4       0.95      0.95      0.95        55\n",
            "\n",
            "    accuracy                           0.96       140\n",
            "   macro avg       0.96      0.96      0.96       140\n",
            "weighted avg       0.96      0.96      0.96       140\n",
            "\n"
          ]
        }
      ]
    },
    {
      "cell_type": "code",
      "source": [
        "TP = cm_7[0,0]\n",
        "TN = cm_7[1,1]\n",
        "FP = cm_7[0,1]\n",
        "FN = cm_7[1,0]"
      ],
      "metadata": {
        "id": "uO-9kq3a4Tx5"
      },
      "execution_count": 89,
      "outputs": []
    },
    {
      "cell_type": "code",
      "source": [
        "\n",
        "classification_accuracy = (TP + TN) / float(TP + TN + FP + FN)\n",
        "\n",
        "print('Classification accuracy : {0:0.4f}'.format(classification_accuracy))"
      ],
      "metadata": {
        "colab": {
          "base_uri": "https://localhost:8080/"
        },
        "id": "y4Dwd_OD4Ws4",
        "outputId": "de0b7014-f4f2-4526-d338-6099f6965760"
      },
      "execution_count": 90,
      "outputs": [
        {
          "output_type": "stream",
          "name": "stdout",
          "text": [
            "Classification accuracy : 0.9571\n"
          ]
        }
      ]
    }
  ]
}